{
  "nbformat": 4,
  "nbformat_minor": 0,
  "metadata": {
    "colab": {
      "provenance": []
    },
    "kernelspec": {
      "name": "python3",
      "display_name": "Python 3"
    },
    "language_info": {
      "name": "python"
    }
  },
  "cells": [
    {
      "cell_type": "code",
      "execution_count": null,
      "metadata": {
        "id": "jCiUKh8_LceT"
      },
      "outputs": [],
      "source": [
        "import pandas as pd\n",
        "import numpy as np\n",
        "import matplotlib.pyplot as plt\n",
        "import seaborn as sns\n",
        "from scipy.stats import zscore\n",
        "import xgboost as xgb\n",
        "from sklearn.metrics import mean_squared_error\n",
        "from sklearn.preprocessing import LabelEncoder\n",
        "from sklearn.model_selection import train_test_split\n",
        "\n",
        "\n",
        "pd.set_option('display.float_format', lambda x: '{:.4f}'.format(x)) #Limiting 4 decimal\n",
        "plt.rcParams[\"figure.figsize\"] = [9,5]\n",
        "plt.style.use('ggplot')"
      ]
    },
    {
      "cell_type": "code",
      "source": [
        "data_df = pd.read_csv(\"forestfires.csv\")\n",
        "\n",
        "data_df.info()"
      ],
      "metadata": {
        "colab": {
          "base_uri": "https://localhost:8080/"
        },
        "id": "UV-_YO72LqwC",
        "outputId": "f561c23b-e63f-466a-cfa4-c2eb9c7567b6"
      },
      "execution_count": null,
      "outputs": [
        {
          "output_type": "stream",
          "name": "stdout",
          "text": [
            "<class 'pandas.core.frame.DataFrame'>\n",
            "RangeIndex: 517 entries, 0 to 516\n",
            "Data columns (total 13 columns):\n",
            " #   Column  Non-Null Count  Dtype  \n",
            "---  ------  --------------  -----  \n",
            " 0   X       517 non-null    int64  \n",
            " 1   Y       517 non-null    int64  \n",
            " 2   month   517 non-null    object \n",
            " 3   day     517 non-null    object \n",
            " 4   FFMC    517 non-null    float64\n",
            " 5   DMC     517 non-null    float64\n",
            " 6   DC      517 non-null    float64\n",
            " 7   ISI     517 non-null    float64\n",
            " 8   temp    517 non-null    float64\n",
            " 9   RH      517 non-null    int64  \n",
            " 10  wind    517 non-null    float64\n",
            " 11  rain    517 non-null    float64\n",
            " 12  area    517 non-null    float64\n",
            "dtypes: float64(8), int64(3), object(2)\n",
            "memory usage: 52.6+ KB\n"
          ]
        }
      ]
    },
    {
      "cell_type": "markdown",
      "source": [
        "We need to convert Month and Day to either \"int\" or \"float\" from 'Object' data type or just drop them really\n",
        "\n",
        " Other observation is no missing values are present(all are non-null) so we are good to go ahead."
      ],
      "metadata": {
        "id": "-OaHPztYaYZj"
      }
    },
    {
      "cell_type": "markdown",
      "source": [
        " If suppose missing values were really present(NaN) we can:\n",
        "\n",
        "1.   Fill them all with a single value using --> df.fillna(0)\n",
        "2.   Fill them with the pevious or next values --> df.fillna(method = 'pad') || df.fillna(method = 'bfill')\n",
        "3. Use the replace function"
      ],
      "metadata": {
        "id": "mK_leMYUarb3"
      }
    },
    {
      "cell_type": "code",
      "source": [
        "df = data_df.drop(['month', 'day'], axis=1)\n",
        "df"
      ],
      "metadata": {
        "colab": {
          "base_uri": "https://localhost:8080/",
          "height": 424
        },
        "id": "LNSrns0iMtYx",
        "outputId": "b1e64c13-fc49-4fe3-fe6c-c40cf26703d8"
      },
      "execution_count": null,
      "outputs": [
        {
          "output_type": "execute_result",
          "data": {
            "text/plain": [
              "     X  Y    FFMC      DMC       DC     ISI    temp  RH   wind   rain    area\n",
              "0    7  5 86.2000  26.2000  94.3000  5.1000  8.2000  51 6.7000 0.0000  0.0000\n",
              "1    7  4 90.6000  35.4000 669.1000  6.7000 18.0000  33 0.9000 0.0000  0.0000\n",
              "2    7  4 90.6000  43.7000 686.9000  6.7000 14.6000  33 1.3000 0.0000  0.0000\n",
              "3    8  6 91.7000  33.3000  77.5000  9.0000  8.3000  97 4.0000 0.2000  0.0000\n",
              "4    8  6 89.3000  51.3000 102.2000  9.6000 11.4000  99 1.8000 0.0000  0.0000\n",
              "..  .. ..     ...      ...      ...     ...     ...  ..    ...    ...     ...\n",
              "512  4  3 81.6000  56.7000 665.6000  1.9000 27.8000  32 2.7000 0.0000  6.4400\n",
              "513  2  4 81.6000  56.7000 665.6000  1.9000 21.9000  71 5.8000 0.0000 54.2900\n",
              "514  7  4 81.6000  56.7000 665.6000  1.9000 21.2000  70 6.7000 0.0000 11.1600\n",
              "515  1  4 94.4000 146.0000 614.7000 11.3000 25.6000  42 4.0000 0.0000  0.0000\n",
              "516  6  3 79.5000   3.0000 106.7000  1.1000 11.8000  31 4.5000 0.0000  0.0000\n",
              "\n",
              "[517 rows x 11 columns]"
            ],
            "text/html": [
              "\n",
              "  <div id=\"df-3774f384-bec4-460c-ad2d-c236da148a46\">\n",
              "    <div class=\"colab-df-container\">\n",
              "      <div>\n",
              "<style scoped>\n",
              "    .dataframe tbody tr th:only-of-type {\n",
              "        vertical-align: middle;\n",
              "    }\n",
              "\n",
              "    .dataframe tbody tr th {\n",
              "        vertical-align: top;\n",
              "    }\n",
              "\n",
              "    .dataframe thead th {\n",
              "        text-align: right;\n",
              "    }\n",
              "</style>\n",
              "<table border=\"1\" class=\"dataframe\">\n",
              "  <thead>\n",
              "    <tr style=\"text-align: right;\">\n",
              "      <th></th>\n",
              "      <th>X</th>\n",
              "      <th>Y</th>\n",
              "      <th>FFMC</th>\n",
              "      <th>DMC</th>\n",
              "      <th>DC</th>\n",
              "      <th>ISI</th>\n",
              "      <th>temp</th>\n",
              "      <th>RH</th>\n",
              "      <th>wind</th>\n",
              "      <th>rain</th>\n",
              "      <th>area</th>\n",
              "    </tr>\n",
              "  </thead>\n",
              "  <tbody>\n",
              "    <tr>\n",
              "      <th>0</th>\n",
              "      <td>7</td>\n",
              "      <td>5</td>\n",
              "      <td>86.2000</td>\n",
              "      <td>26.2000</td>\n",
              "      <td>94.3000</td>\n",
              "      <td>5.1000</td>\n",
              "      <td>8.2000</td>\n",
              "      <td>51</td>\n",
              "      <td>6.7000</td>\n",
              "      <td>0.0000</td>\n",
              "      <td>0.0000</td>\n",
              "    </tr>\n",
              "    <tr>\n",
              "      <th>1</th>\n",
              "      <td>7</td>\n",
              "      <td>4</td>\n",
              "      <td>90.6000</td>\n",
              "      <td>35.4000</td>\n",
              "      <td>669.1000</td>\n",
              "      <td>6.7000</td>\n",
              "      <td>18.0000</td>\n",
              "      <td>33</td>\n",
              "      <td>0.9000</td>\n",
              "      <td>0.0000</td>\n",
              "      <td>0.0000</td>\n",
              "    </tr>\n",
              "    <tr>\n",
              "      <th>2</th>\n",
              "      <td>7</td>\n",
              "      <td>4</td>\n",
              "      <td>90.6000</td>\n",
              "      <td>43.7000</td>\n",
              "      <td>686.9000</td>\n",
              "      <td>6.7000</td>\n",
              "      <td>14.6000</td>\n",
              "      <td>33</td>\n",
              "      <td>1.3000</td>\n",
              "      <td>0.0000</td>\n",
              "      <td>0.0000</td>\n",
              "    </tr>\n",
              "    <tr>\n",
              "      <th>3</th>\n",
              "      <td>8</td>\n",
              "      <td>6</td>\n",
              "      <td>91.7000</td>\n",
              "      <td>33.3000</td>\n",
              "      <td>77.5000</td>\n",
              "      <td>9.0000</td>\n",
              "      <td>8.3000</td>\n",
              "      <td>97</td>\n",
              "      <td>4.0000</td>\n",
              "      <td>0.2000</td>\n",
              "      <td>0.0000</td>\n",
              "    </tr>\n",
              "    <tr>\n",
              "      <th>4</th>\n",
              "      <td>8</td>\n",
              "      <td>6</td>\n",
              "      <td>89.3000</td>\n",
              "      <td>51.3000</td>\n",
              "      <td>102.2000</td>\n",
              "      <td>9.6000</td>\n",
              "      <td>11.4000</td>\n",
              "      <td>99</td>\n",
              "      <td>1.8000</td>\n",
              "      <td>0.0000</td>\n",
              "      <td>0.0000</td>\n",
              "    </tr>\n",
              "    <tr>\n",
              "      <th>...</th>\n",
              "      <td>...</td>\n",
              "      <td>...</td>\n",
              "      <td>...</td>\n",
              "      <td>...</td>\n",
              "      <td>...</td>\n",
              "      <td>...</td>\n",
              "      <td>...</td>\n",
              "      <td>...</td>\n",
              "      <td>...</td>\n",
              "      <td>...</td>\n",
              "      <td>...</td>\n",
              "    </tr>\n",
              "    <tr>\n",
              "      <th>512</th>\n",
              "      <td>4</td>\n",
              "      <td>3</td>\n",
              "      <td>81.6000</td>\n",
              "      <td>56.7000</td>\n",
              "      <td>665.6000</td>\n",
              "      <td>1.9000</td>\n",
              "      <td>27.8000</td>\n",
              "      <td>32</td>\n",
              "      <td>2.7000</td>\n",
              "      <td>0.0000</td>\n",
              "      <td>6.4400</td>\n",
              "    </tr>\n",
              "    <tr>\n",
              "      <th>513</th>\n",
              "      <td>2</td>\n",
              "      <td>4</td>\n",
              "      <td>81.6000</td>\n",
              "      <td>56.7000</td>\n",
              "      <td>665.6000</td>\n",
              "      <td>1.9000</td>\n",
              "      <td>21.9000</td>\n",
              "      <td>71</td>\n",
              "      <td>5.8000</td>\n",
              "      <td>0.0000</td>\n",
              "      <td>54.2900</td>\n",
              "    </tr>\n",
              "    <tr>\n",
              "      <th>514</th>\n",
              "      <td>7</td>\n",
              "      <td>4</td>\n",
              "      <td>81.6000</td>\n",
              "      <td>56.7000</td>\n",
              "      <td>665.6000</td>\n",
              "      <td>1.9000</td>\n",
              "      <td>21.2000</td>\n",
              "      <td>70</td>\n",
              "      <td>6.7000</td>\n",
              "      <td>0.0000</td>\n",
              "      <td>11.1600</td>\n",
              "    </tr>\n",
              "    <tr>\n",
              "      <th>515</th>\n",
              "      <td>1</td>\n",
              "      <td>4</td>\n",
              "      <td>94.4000</td>\n",
              "      <td>146.0000</td>\n",
              "      <td>614.7000</td>\n",
              "      <td>11.3000</td>\n",
              "      <td>25.6000</td>\n",
              "      <td>42</td>\n",
              "      <td>4.0000</td>\n",
              "      <td>0.0000</td>\n",
              "      <td>0.0000</td>\n",
              "    </tr>\n",
              "    <tr>\n",
              "      <th>516</th>\n",
              "      <td>6</td>\n",
              "      <td>3</td>\n",
              "      <td>79.5000</td>\n",
              "      <td>3.0000</td>\n",
              "      <td>106.7000</td>\n",
              "      <td>1.1000</td>\n",
              "      <td>11.8000</td>\n",
              "      <td>31</td>\n",
              "      <td>4.5000</td>\n",
              "      <td>0.0000</td>\n",
              "      <td>0.0000</td>\n",
              "    </tr>\n",
              "  </tbody>\n",
              "</table>\n",
              "<p>517 rows × 11 columns</p>\n",
              "</div>\n",
              "      <button class=\"colab-df-convert\" onclick=\"convertToInteractive('df-3774f384-bec4-460c-ad2d-c236da148a46')\"\n",
              "              title=\"Convert this dataframe to an interactive table.\"\n",
              "              style=\"display:none;\">\n",
              "        \n",
              "  <svg xmlns=\"http://www.w3.org/2000/svg\" height=\"24px\"viewBox=\"0 0 24 24\"\n",
              "       width=\"24px\">\n",
              "    <path d=\"M0 0h24v24H0V0z\" fill=\"none\"/>\n",
              "    <path d=\"M18.56 5.44l.94 2.06.94-2.06 2.06-.94-2.06-.94-.94-2.06-.94 2.06-2.06.94zm-11 1L8.5 8.5l.94-2.06 2.06-.94-2.06-.94L8.5 2.5l-.94 2.06-2.06.94zm10 10l.94 2.06.94-2.06 2.06-.94-2.06-.94-.94-2.06-.94 2.06-2.06.94z\"/><path d=\"M17.41 7.96l-1.37-1.37c-.4-.4-.92-.59-1.43-.59-.52 0-1.04.2-1.43.59L10.3 9.45l-7.72 7.72c-.78.78-.78 2.05 0 2.83L4 21.41c.39.39.9.59 1.41.59.51 0 1.02-.2 1.41-.59l7.78-7.78 2.81-2.81c.8-.78.8-2.07 0-2.86zM5.41 20L4 18.59l7.72-7.72 1.47 1.35L5.41 20z\"/>\n",
              "  </svg>\n",
              "      </button>\n",
              "      \n",
              "  <style>\n",
              "    .colab-df-container {\n",
              "      display:flex;\n",
              "      flex-wrap:wrap;\n",
              "      gap: 12px;\n",
              "    }\n",
              "\n",
              "    .colab-df-convert {\n",
              "      background-color: #E8F0FE;\n",
              "      border: none;\n",
              "      border-radius: 50%;\n",
              "      cursor: pointer;\n",
              "      display: none;\n",
              "      fill: #1967D2;\n",
              "      height: 32px;\n",
              "      padding: 0 0 0 0;\n",
              "      width: 32px;\n",
              "    }\n",
              "\n",
              "    .colab-df-convert:hover {\n",
              "      background-color: #E2EBFA;\n",
              "      box-shadow: 0px 1px 2px rgba(60, 64, 67, 0.3), 0px 1px 3px 1px rgba(60, 64, 67, 0.15);\n",
              "      fill: #174EA6;\n",
              "    }\n",
              "\n",
              "    [theme=dark] .colab-df-convert {\n",
              "      background-color: #3B4455;\n",
              "      fill: #D2E3FC;\n",
              "    }\n",
              "\n",
              "    [theme=dark] .colab-df-convert:hover {\n",
              "      background-color: #434B5C;\n",
              "      box-shadow: 0px 1px 3px 1px rgba(0, 0, 0, 0.15);\n",
              "      filter: drop-shadow(0px 1px 2px rgba(0, 0, 0, 0.3));\n",
              "      fill: #FFFFFF;\n",
              "    }\n",
              "  </style>\n",
              "\n",
              "      <script>\n",
              "        const buttonEl =\n",
              "          document.querySelector('#df-3774f384-bec4-460c-ad2d-c236da148a46 button.colab-df-convert');\n",
              "        buttonEl.style.display =\n",
              "          google.colab.kernel.accessAllowed ? 'block' : 'none';\n",
              "\n",
              "        async function convertToInteractive(key) {\n",
              "          const element = document.querySelector('#df-3774f384-bec4-460c-ad2d-c236da148a46');\n",
              "          const dataTable =\n",
              "            await google.colab.kernel.invokeFunction('convertToInteractive',\n",
              "                                                     [key], {});\n",
              "          if (!dataTable) return;\n",
              "\n",
              "          const docLinkHtml = 'Like what you see? Visit the ' +\n",
              "            '<a target=\"_blank\" href=https://colab.research.google.com/notebooks/data_table.ipynb>data table notebook</a>'\n",
              "            + ' to learn more about interactive tables.';\n",
              "          element.innerHTML = '';\n",
              "          dataTable['output_type'] = 'display_data';\n",
              "          await google.colab.output.renderOutput(dataTable, element);\n",
              "          const docLink = document.createElement('div');\n",
              "          docLink.innerHTML = docLinkHtml;\n",
              "          element.appendChild(docLink);\n",
              "        }\n",
              "      </script>\n",
              "    </div>\n",
              "  </div>\n",
              "  "
            ]
          },
          "metadata": {},
          "execution_count": 4
        }
      ]
    },
    {
      "cell_type": "markdown",
      "source": [
        "Number of columns is reduced from 13 to 11 hence Month and Day have been dropped"
      ],
      "metadata": {
        "id": "t00O6NqPaSbg"
      }
    },
    {
      "cell_type": "markdown",
      "source": [
        "FFMC --> fine fuel moisture code\n",
        "\n",
        "DMC --> duff moisture code\n",
        "\n",
        "DC --> drought code\n",
        "\n",
        "ISI --> initial spread index\n",
        "\n",
        "RH --> relative humidity"
      ],
      "metadata": {
        "id": "EwE4BfOAotCF"
      }
    },
    {
      "cell_type": "markdown",
      "source": [
        "The FWI is open-source and free to use provided by the Canadian Gov here: https://www.nwcg.gov/publications/pms437/cffdrs/fire-weather-index-system\n",
        "\n",
        "Source-Code of FWI: https://publications.gc.ca/collections/collection_2016/rncan-nrcan/Fo133-1-424-eng.pdf"
      ],
      "metadata": {
        "id": "c32KvbGvpLiK"
      }
    },
    {
      "cell_type": "code",
      "source": [
        "print(\"Skew: \\n{}\".format(df.skew()))\n",
        "print(\"\\nKurtosis: \\n{}\".format(df.kurtosis()))"
      ],
      "metadata": {
        "colab": {
          "base_uri": "https://localhost:8080/"
        },
        "id": "ZzNuu73uPAGS",
        "outputId": "a63558fe-d6df-4b85-cfe4-e3e818c2c0a2"
      },
      "execution_count": null,
      "outputs": [
        {
          "output_type": "stream",
          "name": "stdout",
          "text": [
            "Skew: \n",
            "X       0.0362\n",
            "Y       0.4173\n",
            "FFMC   -6.5756\n",
            "DMC     0.5475\n",
            "DC     -1.1004\n",
            "ISI     2.5363\n",
            "temp   -0.3312\n",
            "RH      0.8629\n",
            "wind    0.5710\n",
            "rain   19.8163\n",
            "area   12.8469\n",
            "dtype: float64\n",
            "\n",
            "Kurtosis: \n",
            "X       -1.1723\n",
            "Y        1.4206\n",
            "FFMC    67.0660\n",
            "DMC      0.2048\n",
            "DC      -0.2452\n",
            "ISI     21.4580\n",
            "temp     0.1362\n",
            "RH       0.4382\n",
            "wind     0.0543\n",
            "rain   421.2960\n",
            "area   194.1407\n",
            "dtype: float64\n"
          ]
        }
      ]
    },
    {
      "cell_type": "markdown",
      "source": [
        " To understand Skewness and Kurtosis this article from \"Towards Data Science\" is very helpful: https://towardsdatascience.com/skewness-kurtosis-simplified-1338e094fc85"
      ],
      "metadata": {
        "id": "YpnRyoJpZhxS"
      }
    },
    {
      "cell_type": "markdown",
      "source": [
        " The **horizontal push or pull** distortion of a normal distribution curve gets captured by the \"Skewness\"\n",
        "\n",
        " And the **vertical push or pull** distortion gets captured by the \"Kurtosis\" measure.\n",
        " Also, it is the impact of outliers that dominate the kurtosis effect which has its roots of proof sitting in the fourth-order moment-based formula."
      ],
      "metadata": {
        "id": "bopc11D1ZxEF"
      }
    },
    {
      "cell_type": "markdown",
      "source": [
        " We can clearly see that the columns : [FFMC, ISI, rain, area]\n",
        " to have many outliers"
      ],
      "metadata": {
        "id": "yzwa9yukZ2VV"
      }
    },
    {
      "cell_type": "code",
      "source": [
        "outl_dect = sns.boxplot(data_df['FFMC'], orient=\"v\")"
      ],
      "metadata": {
        "colab": {
          "base_uri": "https://localhost:8080/",
          "height": 450
        },
        "id": "DWU1vdbqVPiA",
        "outputId": "3632e7dc-1aba-4f57-f1a0-aa7387316fdb"
      },
      "execution_count": null,
      "outputs": [
        {
          "output_type": "display_data",
          "data": {
            "text/plain": [
              "<Figure size 900x500 with 1 Axes>"
            ],
            "image/png": "[encoded data removed]"
          },
          "metadata": {}
        }
      ]
    },
    {
      "cell_type": "code",
      "source": [
        "outl_dect = sns.boxplot(data_df['rain'])"
      ],
      "metadata": {
        "colab": {
          "base_uri": "https://localhost:8080/",
          "height": 445
        },
        "id": "U10dZZntVSn1",
        "outputId": "9db55902-79e0-4cd2-d9ac-815651442871"
      },
      "execution_count": null,
      "outputs": [
        {
          "output_type": "display_data",
          "data": {
            "text/plain": [
              "<Figure size 900x500 with 1 Axes>"
            ],
            "image/png": "[encoded data removed]"
          },
          "metadata": {}
        }
      ]
    },
    {
      "cell_type": "code",
      "source": [
        "outl_dect = sns.boxplot(data_df['area'])"
      ],
      "metadata": {
        "colab": {
          "base_uri": "https://localhost:8080/",
          "height": 445
        },
        "id": "fMS7xErUY_hL",
        "outputId": "9088bf8d-f72e-4eb3-d0b5-be855c362c5f"
      },
      "execution_count": null,
      "outputs": [
        {
          "output_type": "display_data",
          "data": {
            "text/plain": [
              "<Figure size 900x500 with 1 Axes>"
            ],
            "image/png": "[encoded data removed]"
          },
          "metadata": {}
        }
      ]
    },
    {
      "cell_type": "markdown",
      "source": [
        "Instead of simply removing all the outliers let us first try to normalise the values"
      ],
      "metadata": {
        "id": "uyVJPTnWa_kt"
      }
    },
    {
      "cell_type": "code",
      "source": [
        "outlier_columns = ['area','FFMC','ISI','rain']\n",
        "print(\"Skew after log operation:\\n\")\n",
        "np.log1p(data_df[outlier_columns]).skew()\n",
        "# The logarithmic operation gives output ln(x+1) where x is any element of input array"
      ],
      "metadata": {
        "colab": {
          "base_uri": "https://localhost:8080/"
        },
        "id": "VI5MS2ztZWqr",
        "outputId": "c5b4c99f-4271-4a4c-9c6c-a0119641b513"
      },
      "execution_count": null,
      "outputs": [
        {
          "output_type": "stream",
          "name": "stdout",
          "text": [
            "Skew after log operation:\n",
            "\n"
          ]
        },
        {
          "output_type": "execute_result",
          "data": {
            "text/plain": [
              "area     1.2178\n",
              "FFMC   -11.6754\n",
              "ISI     -0.9372\n",
              "rain    14.1730\n",
              "dtype: float64"
            ]
          },
          "metadata": {},
          "execution_count": 9
        }
      ]
    },
    {
      "cell_type": "code",
      "source": [
        "print(\"Kurtosis after log operation:\\n\")\n",
        "\n",
        "np.log1p(data_df[outlier_columns]).kurtosis()"
      ],
      "metadata": {
        "colab": {
          "base_uri": "https://localhost:8080/"
        },
        "id": "m44Tdp7nbQrs",
        "outputId": "a850c143-ee73-4baa-a172-66bcca5593f6"
      },
      "execution_count": null,
      "outputs": [
        {
          "output_type": "stream",
          "name": "stdout",
          "text": [
            "Kurtosis after log operation:\n",
            "\n"
          ]
        },
        {
          "output_type": "execute_result",
          "data": {
            "text/plain": [
              "area     0.9457\n",
              "FFMC   185.4824\n",
              "ISI      2.5846\n",
              "rain   234.2400\n",
              "dtype: float64"
            ]
          },
          "metadata": {},
          "execution_count": 10
        }
      ]
    },
    {
      "cell_type": "markdown",
      "source": [
        "Even after log transformations \"FFMC\" and \"rain\" have many outliers. So removing them using Zscore method"
      ],
      "metadata": {
        "id": "JgqdyHxtcccY"
      }
    },
    {
      "cell_type": "code",
      "source": [
        "data_df.shape"
      ],
      "metadata": {
        "colab": {
          "base_uri": "https://localhost:8080/"
        },
        "id": "cj_X8xfNfbXI",
        "outputId": "c42a991e-5557-4538-ed44-eceb8cecbb53"
      },
      "execution_count": null,
      "outputs": [
        {
          "output_type": "execute_result",
          "data": {
            "text/plain": [
              "(517, 13)"
            ]
          },
          "metadata": {},
          "execution_count": 11
        }
      ]
    },
    {
      "cell_type": "code",
      "source": [
        "mask = data_df.loc[:,['FFMC']].apply(zscore).abs() < 3\n",
        "data_df = data_df[mask.values]\n",
        "data_df.shape"
      ],
      "metadata": {
        "colab": {
          "base_uri": "https://localhost:8080/"
        },
        "id": "CKTdmGD9cMX0",
        "outputId": "8aa291e7-b865-48eb-999a-9427234cae14"
      },
      "execution_count": null,
      "outputs": [
        {
          "output_type": "execute_result",
          "data": {
            "text/plain": [
              "(510, 13)"
            ]
          },
          "metadata": {},
          "execution_count": 12
        }
      ]
    },
    {
      "cell_type": "code",
      "source": [
        "outl_dect = sns.boxplot(data_df['FFMC'], orient=\"v\")"
      ],
      "metadata": {
        "colab": {
          "base_uri": "https://localhost:8080/",
          "height": 445
        },
        "id": "splkVg9SfYQ-",
        "outputId": "e9711af0-2b12-41a9-c697-872b73381975"
      },
      "execution_count": null,
      "outputs": [
        {
          "output_type": "display_data",
          "data": {
            "text/plain": [
              "<Figure size 900x500 with 1 Axes>"
            ],
            "image/png": "[encoded data removed]"
          },
          "metadata": {}
        }
      ]
    },
    {
      "cell_type": "code",
      "source": [
        "data_df['rain'] = data_df['rain'].apply(lambda x: int(x > 0.0))"
      ],
      "metadata": {
        "id": "xMzoW9tGtYmi"
      },
      "execution_count": null,
      "outputs": []
    },
    {
      "cell_type": "code",
      "source": [
        "outlier_columns.remove('rain')\n",
        "data_df[outlier_columns] = np.log1p(data_df[outlier_columns])"
      ],
      "metadata": {
        "id": "-xRpEvVaWVzM"
      },
      "execution_count": null,
      "outputs": []
    },
    {
      "cell_type": "code",
      "source": [
        "data_df[outlier_columns].skew()"
      ],
      "metadata": {
        "colab": {
          "base_uri": "https://localhost:8080/"
        },
        "id": "KryK8yisWz5g",
        "outputId": "d12d8bba-5e3d-49a3-e5f3-e2e072549f5a"
      },
      "execution_count": null,
      "outputs": [
        {
          "output_type": "execute_result",
          "data": {
            "text/plain": [
              "area    1.2085\n",
              "FFMC   -1.8040\n",
              "ISI    -0.4344\n",
              "dtype: float64"
            ]
          },
          "metadata": {},
          "execution_count": 16
        }
      ]
    },
    {
      "cell_type": "code",
      "source": [
        "data_df[outlier_columns].kurtosis()"
      ],
      "metadata": {
        "colab": {
          "base_uri": "https://localhost:8080/"
        },
        "id": "c4Zhs7g4XS7f",
        "outputId": "6a8f6c85-3ab0-4dcc-809c-3c5f4d00fe8f"
      },
      "execution_count": null,
      "outputs": [
        {
          "output_type": "execute_result",
          "data": {
            "text/plain": [
              "area   0.9234\n",
              "FFMC   4.8667\n",
              "ISI    1.1226\n",
              "dtype: float64"
            ]
          },
          "metadata": {},
          "execution_count": 17
        }
      ]
    },
    {
      "cell_type": "code",
      "source": [
        "data_df.describe()"
      ],
      "metadata": {
        "colab": {
          "base_uri": "https://localhost:8080/",
          "height": 300
        },
        "id": "8vMFJ35FXTia",
        "outputId": "d2f5b5f7-5645-4031-e2e2-c404fcc99e6f"
      },
      "execution_count": null,
      "outputs": [
        {
          "output_type": "execute_result",
          "data": {
            "text/plain": [
              "             X        Y     FFMC      DMC       DC      ISI     temp       RH  \\\n",
              "count 510.0000 510.0000 510.0000 510.0000 510.0000 510.0000 510.0000 510.0000   \n",
              "mean    4.6804   4.2941   4.5226 111.8376 550.4704   2.2285  18.9516  44.0294   \n",
              "std     2.3205   1.2346   0.0350  63.8537 246.6307   0.4288   5.7899  15.9683   \n",
              "min     1.0000   2.0000   4.3320   3.0000   7.9000   0.7419   2.2000  15.0000   \n",
              "25%     3.0000   4.0000   4.5142  73.2500 442.3000   2.0412  15.6250  32.2500   \n",
              "50%     4.0000   4.0000   4.5288 108.4000 664.2000   2.2407  19.3000  41.5000   \n",
              "75%     7.0000   5.0000   4.5422 142.4000 714.2000   2.4849  22.8000  53.0000   \n",
              "max     9.0000   9.0000   4.5768 291.3000 860.6000   4.0448  33.3000  99.0000   \n",
              "\n",
              "          wind     rain     area  \n",
              "count 510.0000 510.0000 510.0000  \n",
              "mean    4.0173   0.0157   1.1214  \n",
              "std     1.7888   0.1244   1.4014  \n",
              "min     0.4000   0.0000   0.0000  \n",
              "25%     2.7000   0.0000   0.0000  \n",
              "50%     4.0000   0.0000   0.4572  \n",
              "75%     4.9000   0.0000   2.0252  \n",
              "max     9.4000   1.0000   6.9956  "
            ],
            "text/html": [
              "\n",
              "  <div id=\"df-806fb995-4ab4-4227-af74-d4954e5b89c7\">\n",
              "    <div class=\"colab-df-container\">\n",
              "      <div>\n",
              "<style scoped>\n",
              "    .dataframe tbody tr th:only-of-type {\n",
              "        vertical-align: middle;\n",
              "    }\n",
              "\n",
              "    .dataframe tbody tr th {\n",
              "        vertical-align: top;\n",
              "    }\n",
              "\n",
              "    .dataframe thead th {\n",
              "        text-align: right;\n",
              "    }\n",
              "</style>\n",
              "<table border=\"1\" class=\"dataframe\">\n",
              "  <thead>\n",
              "    <tr style=\"text-align: right;\">\n",
              "      <th></th>\n",
              "      <th>X</th>\n",
              "      <th>Y</th>\n",
              "      <th>FFMC</th>\n",
              "      <th>DMC</th>\n",
              "      <th>DC</th>\n",
              "      <th>ISI</th>\n",
              "      <th>temp</th>\n",
              "      <th>RH</th>\n",
              "      <th>wind</th>\n",
              "      <th>rain</th>\n",
              "      <th>area</th>\n",
              "    </tr>\n",
              "  </thead>\n",
              "  <tbody>\n",
              "    <tr>\n",
              "      <th>count</th>\n",
              "      <td>510.0000</td>\n",
              "      <td>510.0000</td>\n",
              "      <td>510.0000</td>\n",
              "      <td>510.0000</td>\n",
              "      <td>510.0000</td>\n",
              "      <td>510.0000</td>\n",
              "      <td>510.0000</td>\n",
              "      <td>510.0000</td>\n",
              "      <td>510.0000</td>\n",
              "      <td>510.0000</td>\n",
              "      <td>510.0000</td>\n",
              "    </tr>\n",
              "    <tr>\n",
              "      <th>mean</th>\n",
              "      <td>4.6804</td>\n",
              "      <td>4.2941</td>\n",
              "      <td>4.5226</td>\n",
              "      <td>111.8376</td>\n",
              "      <td>550.4704</td>\n",
              "      <td>2.2285</td>\n",
              "      <td>18.9516</td>\n",
              "      <td>44.0294</td>\n",
              "      <td>4.0173</td>\n",
              "      <td>0.0157</td>\n",
              "      <td>1.1214</td>\n",
              "    </tr>\n",
              "    <tr>\n",
              "      <th>std</th>\n",
              "      <td>2.3205</td>\n",
              "      <td>1.2346</td>\n",
              "      <td>0.0350</td>\n",
              "      <td>63.8537</td>\n",
              "      <td>246.6307</td>\n",
              "      <td>0.4288</td>\n",
              "      <td>5.7899</td>\n",
              "      <td>15.9683</td>\n",
              "      <td>1.7888</td>\n",
              "      <td>0.1244</td>\n",
              "      <td>1.4014</td>\n",
              "    </tr>\n",
              "    <tr>\n",
              "      <th>min</th>\n",
              "      <td>1.0000</td>\n",
              "      <td>2.0000</td>\n",
              "      <td>4.3320</td>\n",
              "      <td>3.0000</td>\n",
              "      <td>7.9000</td>\n",
              "      <td>0.7419</td>\n",
              "      <td>2.2000</td>\n",
              "      <td>15.0000</td>\n",
              "      <td>0.4000</td>\n",
              "      <td>0.0000</td>\n",
              "      <td>0.0000</td>\n",
              "    </tr>\n",
              "    <tr>\n",
              "      <th>25%</th>\n",
              "      <td>3.0000</td>\n",
              "      <td>4.0000</td>\n",
              "      <td>4.5142</td>\n",
              "      <td>73.2500</td>\n",
              "      <td>442.3000</td>\n",
              "      <td>2.0412</td>\n",
              "      <td>15.6250</td>\n",
              "      <td>32.2500</td>\n",
              "      <td>2.7000</td>\n",
              "      <td>0.0000</td>\n",
              "      <td>0.0000</td>\n",
              "    </tr>\n",
              "    <tr>\n",
              "      <th>50%</th>\n",
              "      <td>4.0000</td>\n",
              "      <td>4.0000</td>\n",
              "      <td>4.5288</td>\n",
              "      <td>108.4000</td>\n",
              "      <td>664.2000</td>\n",
              "      <td>2.2407</td>\n",
              "      <td>19.3000</td>\n",
              "      <td>41.5000</td>\n",
              "      <td>4.0000</td>\n",
              "      <td>0.0000</td>\n",
              "      <td>0.4572</td>\n",
              "    </tr>\n",
              "    <tr>\n",
              "      <th>75%</th>\n",
              "      <td>7.0000</td>\n",
              "      <td>5.0000</td>\n",
              "      <td>4.5422</td>\n",
              "      <td>142.4000</td>\n",
              "      <td>714.2000</td>\n",
              "      <td>2.4849</td>\n",
              "      <td>22.8000</td>\n",
              "      <td>53.0000</td>\n",
              "      <td>4.9000</td>\n",
              "      <td>0.0000</td>\n",
              "      <td>2.0252</td>\n",
              "    </tr>\n",
              "    <tr>\n",
              "      <th>max</th>\n",
              "      <td>9.0000</td>\n",
              "      <td>9.0000</td>\n",
              "      <td>4.5768</td>\n",
              "      <td>291.3000</td>\n",
              "      <td>860.6000</td>\n",
              "      <td>4.0448</td>\n",
              "      <td>33.3000</td>\n",
              "      <td>99.0000</td>\n",
              "      <td>9.4000</td>\n",
              "      <td>1.0000</td>\n",
              "      <td>6.9956</td>\n",
              "    </tr>\n",
              "  </tbody>\n",
              "</table>\n",
              "</div>\n",
              "      <button class=\"colab-df-convert\" onclick=\"convertToInteractive('df-806fb995-4ab4-4227-af74-d4954e5b89c7')\"\n",
              "              title=\"Convert this dataframe to an interactive table.\"\n",
              "              style=\"display:none;\">\n",
              "        \n",
              "  <svg xmlns=\"http://www.w3.org/2000/svg\" height=\"24px\"viewBox=\"0 0 24 24\"\n",
              "       width=\"24px\">\n",
              "    <path d=\"M0 0h24v24H0V0z\" fill=\"none\"/>\n",
              "    <path d=\"M18.56 5.44l.94 2.06.94-2.06 2.06-.94-2.06-.94-.94-2.06-.94 2.06-2.06.94zm-11 1L8.5 8.5l.94-2.06 2.06-.94-2.06-.94L8.5 2.5l-.94 2.06-2.06.94zm10 10l.94 2.06.94-2.06 2.06-.94-2.06-.94-.94-2.06-.94 2.06-2.06.94z\"/><path d=\"M17.41 7.96l-1.37-1.37c-.4-.4-.92-.59-1.43-.59-.52 0-1.04.2-1.43.59L10.3 9.45l-7.72 7.72c-.78.78-.78 2.05 0 2.83L4 21.41c.39.39.9.59 1.41.59.51 0 1.02-.2 1.41-.59l7.78-7.78 2.81-2.81c.8-.78.8-2.07 0-2.86zM5.41 20L4 18.59l7.72-7.72 1.47 1.35L5.41 20z\"/>\n",
              "  </svg>\n",
              "      </button>\n",
              "      \n",
              "  <style>\n",
              "    .colab-df-container {\n",
              "      display:flex;\n",
              "      flex-wrap:wrap;\n",
              "      gap: 12px;\n",
              "    }\n",
              "\n",
              "    .colab-df-convert {\n",
              "      background-color: #E8F0FE;\n",
              "      border: none;\n",
              "      border-radius: 50%;\n",
              "      cursor: pointer;\n",
              "      display: none;\n",
              "      fill: #1967D2;\n",
              "      height: 32px;\n",
              "      padding: 0 0 0 0;\n",
              "      width: 32px;\n",
              "    }\n",
              "\n",
              "    .colab-df-convert:hover {\n",
              "      background-color: #E2EBFA;\n",
              "      box-shadow: 0px 1px 2px rgba(60, 64, 67, 0.3), 0px 1px 3px 1px rgba(60, 64, 67, 0.15);\n",
              "      fill: #174EA6;\n",
              "    }\n",
              "\n",
              "    [theme=dark] .colab-df-convert {\n",
              "      background-color: #3B4455;\n",
              "      fill: #D2E3FC;\n",
              "    }\n",
              "\n",
              "    [theme=dark] .colab-df-convert:hover {\n",
              "      background-color: #434B5C;\n",
              "      box-shadow: 0px 1px 3px 1px rgba(0, 0, 0, 0.15);\n",
              "      filter: drop-shadow(0px 1px 2px rgba(0, 0, 0, 0.3));\n",
              "      fill: #FFFFFF;\n",
              "    }\n",
              "  </style>\n",
              "\n",
              "      <script>\n",
              "        const buttonEl =\n",
              "          document.querySelector('#df-806fb995-4ab4-4227-af74-d4954e5b89c7 button.colab-df-convert');\n",
              "        buttonEl.style.display =\n",
              "          google.colab.kernel.accessAllowed ? 'block' : 'none';\n",
              "\n",
              "        async function convertToInteractive(key) {\n",
              "          const element = document.querySelector('#df-806fb995-4ab4-4227-af74-d4954e5b89c7');\n",
              "          const dataTable =\n",
              "            await google.colab.kernel.invokeFunction('convertToInteractive',\n",
              "                                                     [key], {});\n",
              "          if (!dataTable) return;\n",
              "\n",
              "          const docLinkHtml = 'Like what you see? Visit the ' +\n",
              "            '<a target=\"_blank\" href=https://colab.research.google.com/notebooks/data_table.ipynb>data table notebook</a>'\n",
              "            + ' to learn more about interactive tables.';\n",
              "          element.innerHTML = '';\n",
              "          dataTable['output_type'] = 'display_data';\n",
              "          await google.colab.output.renderOutput(dataTable, element);\n",
              "          const docLink = document.createElement('div');\n",
              "          docLink.innerHTML = docLinkHtml;\n",
              "          element.appendChild(docLink);\n",
              "        }\n",
              "      </script>\n",
              "    </div>\n",
              "  </div>\n",
              "  "
            ]
          },
          "metadata": {},
          "execution_count": 18
        }
      ]
    },
    {
      "cell_type": "markdown",
      "source": [
        "Dataset is now ready for model preparation"
      ],
      "metadata": {
        "id": "n_JPEFbta4lq"
      }
    },
    {
      "cell_type": "code",
      "source": [
        "data_sel = data_df.copy() # Copyinh only since the dataset is small"
      ],
      "metadata": {
        "id": "IMqHk3LvYuUe"
      },
      "execution_count": null,
      "outputs": []
    },
    {
      "cell_type": "markdown",
      "source": [
        "Begin to apply the XGBoost Regressor"
      ],
      "metadata": {
        "id": "hj3zyX2dc5cs"
      }
    },
    {
      "cell_type": "code",
      "source": [
        "le = LabelEncoder()\n",
        "\n",
        "data_sel['day']= le.fit_transform(data_sel['day'])\n",
        "data_sel['month']= le.fit_transform(data_sel['month'])"
      ],
      "metadata": {
        "id": "33sGYgtVbA0h"
      },
      "execution_count": null,
      "outputs": []
    },
    {
      "cell_type": "code",
      "source": [
        "X, y = data_sel.iloc[:,:-1],data_sel.iloc[:,-1]"
      ],
      "metadata": {
        "id": "78kzkflBdI4V"
      },
      "execution_count": null,
      "outputs": []
    },
    {
      "cell_type": "code",
      "source": [
        "X_train, X_test, y_train, y_test = train_test_split(X, y, test_size=0.33, random_state=7)\n",
        "\n",
        "# 33% testing data and the remaining 67% as training"
      ],
      "metadata": {
        "id": "5CGo36iQdQZe"
      },
      "execution_count": null,
      "outputs": []
    },
    {
      "cell_type": "code",
      "source": [
        "xg_reg = xgb.XGBRegressor(objective ='reg:squarederror', colsample_bytree = 0.3, learning_rate = 0.1,\n",
        "                max_depth = 5, alpha = 10, n_estimators = 17)"
      ],
      "metadata": {
        "id": "gb1ZOCesdU98"
      },
      "execution_count": null,
      "outputs": []
    },
    {
      "cell_type": "code",
      "source": [
        "eval_set = [(X_train, y_train), (X_test, y_test)] # Here we can have a validation set from original dataset but since it is already smalll I decided to proceed ahead with the training and testing set\n",
        "\n",
        "# verbose set to False so that we can hide results of model fit progress\n",
        "xg_reg.fit(X_train, y_train, eval_metric=[\"rmse\"], eval_set = eval_set)\n",
        "preds = xg_reg.predict(X_test)"
      ],
      "metadata": {
        "colab": {
          "base_uri": "https://localhost:8080/"
        },
        "id": "9aRCorNddogZ",
        "outputId": "44e65be6-d0c6-4841-c2c4-80291dfd17c9"
      },
      "execution_count": null,
      "outputs": [
        {
          "output_type": "stream",
          "name": "stdout",
          "text": [
            "[0]\tvalidation_0-rmse:1.53108\tvalidation_1-rmse:1.45710\n",
            "[1]\tvalidation_0-rmse:1.50824\tvalidation_1-rmse:1.44051\n",
            "[2]\tvalidation_0-rmse:1.49041\tvalidation_1-rmse:1.42560\n",
            "[3]\tvalidation_0-rmse:1.47559\tvalidation_1-rmse:1.41260\n",
            "[4]\tvalidation_0-rmse:1.46151\tvalidation_1-rmse:1.40263\n",
            "[5]\tvalidation_0-rmse:1.45095\tvalidation_1-rmse:1.39430\n",
            "[6]\tvalidation_0-rmse:1.44153\tvalidation_1-rmse:1.38773\n",
            "[7]\tvalidation_0-rmse:1.42940\tvalidation_1-rmse:1.38437\n",
            "[8]\tvalidation_0-rmse:1.41767\tvalidation_1-rmse:1.38333\n",
            "[9]\tvalidation_0-rmse:1.40645\tvalidation_1-rmse:1.37608\n",
            "[10]\tvalidation_0-rmse:1.40199\tvalidation_1-rmse:1.37376\n",
            "[11]\tvalidation_0-rmse:1.39716\tvalidation_1-rmse:1.37247\n",
            "[12]\tvalidation_0-rmse:1.39403\tvalidation_1-rmse:1.37047\n",
            "[13]\tvalidation_0-rmse:1.38501\tvalidation_1-rmse:1.37067\n",
            "[14]\tvalidation_0-rmse:1.38227\tvalidation_1-rmse:1.36969\n",
            "[15]\tvalidation_0-rmse:1.37777\tvalidation_1-rmse:1.36955\n",
            "[16]\tvalidation_0-rmse:1.37254\tvalidation_1-rmse:1.36880\n"
          ]
        },
        {
          "output_type": "stream",
          "name": "stderr",
          "text": [
            "/usr/local/lib/python3.10/dist-packages/xgboost/sklearn.py:835: UserWarning: `eval_metric` in `fit` method is deprecated for better compatibility with scikit-learn, use `eval_metric` in constructor or`set_params` instead.\n",
            "  warnings.warn(\n"
          ]
        }
      ]
    },
    {
      "cell_type": "code",
      "source": [
        "def calc_ISE(X_train, y_train, model):\n",
        "    '''returns the in-sample R^2 and RMSE; assumes model already fit.'''\n",
        "    predictions = model.predict(X_train)\n",
        "    mse = mean_squared_error(y_train, predictions)\n",
        "    rmse = np.sqrt(mse)\n",
        "    return model.score(X_train, y_train), rmse\n",
        "\n",
        "def calc_OSE(X_test, y_test, model):\n",
        "    '''returns the out-of-sample R^2 and RMSE; assumes model already fit.'''\n",
        "    predictions = model.predict(X_test)\n",
        "    mse = mean_squared_error(y_test, predictions)\n",
        "    rmse = np.sqrt(mse)\n",
        "    return model.score(X_test, y_test), rmse\n",
        "\n",
        "# Calculate In-Sample and Out-of-Sample R^2 and Error"
      ],
      "metadata": {
        "id": "Ayl9cc6UdvRZ"
      },
      "execution_count": null,
      "outputs": []
    },
    {
      "cell_type": "code",
      "source": [
        "is_r2, ise = calc_ISE(X_train, y_train,xg_reg )\n",
        "os_r2, ose = calc_OSE(X_test, y_test, xg_reg)\n",
        "\n",
        "# show dataset sizes\n",
        "data_list = (('R^2_in', is_r2), ('R^2_out', os_r2),\n",
        "             ('ISE', ise), ('OSE', ose))\n",
        "for item in data_list:\n",
        "    print('{:10}: {}'.format(item[0], item[1]))"
      ],
      "metadata": {
        "colab": {
          "base_uri": "https://localhost:8080/"
        },
        "id": "JwabaFzfd8wJ",
        "outputId": "f235cd33-3d20-452a-e829-0c94e626155b"
      },
      "execution_count": null,
      "outputs": [
        {
          "output_type": "stream",
          "name": "stdout",
          "text": [
            "R^2_in    : 0.05634689481074706\n",
            "R^2_out   : 0.0036000964119839995\n",
            "ISE       : 1.3725362469682376\n",
            "OSE       : 1.3688007605658952\n"
          ]
        }
      ]
    },
    {
      "cell_type": "markdown",
      "source": [
        "Clearly test error(OSE) is near to the training error(ISE). i.e our model is good."
      ],
      "metadata": {
        "id": "UDdW1cDTecgI"
      }
    },
    {
      "cell_type": "code",
      "source": [
        "data_sel['area'].describe()"
      ],
      "metadata": {
        "colab": {
          "base_uri": "https://localhost:8080/"
        },
        "id": "04pc8j0fR-VT",
        "outputId": "ea6243d6-901b-40b5-a2e7-47670ad4d6b1"
      },
      "execution_count": null,
      "outputs": [
        {
          "output_type": "execute_result",
          "data": {
            "text/plain": [
              "count   510.0000\n",
              "mean      1.1214\n",
              "std       1.4014\n",
              "min       0.0000\n",
              "25%       0.0000\n",
              "50%       0.4572\n",
              "75%       2.0252\n",
              "max       6.9956\n",
              "Name: area, dtype: float64"
            ]
          },
          "metadata": {},
          "execution_count": 30
        }
      ]
    },
    {
      "cell_type": "code",
      "source": [
        "print('train/test: ',ose/ise)"
      ],
      "metadata": {
        "colab": {
          "base_uri": "https://localhost:8080/"
        },
        "id": "ckoUlwWHd_cR",
        "outputId": "8da91c6e-2c66-41f7-88ac-cb2671fd1824"
      },
      "execution_count": null,
      "outputs": [
        {
          "output_type": "stream",
          "name": "stdout",
          "text": [
            "train/test:  0.9972784060088805\n"
          ]
        }
      ]
    },
    {
      "cell_type": "code",
      "source": [
        "rmse = np.sqrt(mean_squared_error(y_test, preds))\n",
        "print(\"RMSE: %f\" % (rmse)) # RMSE for linear regression ="
      ],
      "metadata": {
        "colab": {
          "base_uri": "https://localhost:8080/"
        },
        "id": "6l984MvUejYm",
        "outputId": "af0ca99f-b1e5-4a89-afcd-70b8469139d2"
      },
      "execution_count": null,
      "outputs": [
        {
          "output_type": "stream",
          "name": "stdout",
          "text": [
            "RMSE: 1.368801\n"
          ]
        }
      ]
    },
    {
      "cell_type": "code",
      "source": [
        "xgb.plot_importance(xg_reg)\n",
        "plt.rcParams['figure.figsize'] = [7, 7]\n",
        "plt.show()"
      ],
      "metadata": {
        "colab": {
          "base_uri": "https://localhost:8080/",
          "height": 492
        },
        "id": "FzSg_KeKeo7G",
        "outputId": "2f5f83d1-989a-4391-a6fd-75a268cb784d"
      },
      "execution_count": null,
      "outputs": [
        {
          "output_type": "display_data",
          "data": {
            "text/plain": [
              "<Figure size 900x500 with 1 Axes>"
            ],
            "image/png": "[encoded data removed]"
          },
          "metadata": {}
        }
      ]
    },
    {
      "cell_type": "code",
      "source": [
        "# retrieve performance metrics\n",
        "results = xg_reg.evals_result()\n",
        "epochs = len(results['validation_0']['rmse'])\n",
        "x_axis = range(0, epochs)\n",
        "\n",
        "# plot Learning Curve\n",
        "fig, ax = plt.subplots()\n",
        "ax.plot(x_axis, results['validation_0']['rmse'], label='Train')\n",
        "ax.plot(x_axis, results['validation_1']['rmse'], label='Test')\n",
        "ax.legend()\n",
        "plt.ylabel('RMSE')\n",
        "plt.title('XGBoost RMSE')\n",
        "plt.show()"
      ],
      "metadata": {
        "colab": {
          "base_uri": "https://localhost:8080/",
          "height": 623
        },
        "id": "cVw4Easwe2ck",
        "outputId": "6ca8ed1d-cd32-40e7-b189-17747b7d7d39"
      },
      "execution_count": null,
      "outputs": [
        {
          "output_type": "display_data",
          "data": {
            "text/plain": [
              "<Figure size 700x700 with 1 Axes>"
            ],
            "image/png": "[encoded data removed]"
          },
          "metadata": {}
        }
      ]
    },
    {
      "cell_type": "code",
      "source": [
        "# Saving model for future prediction on different datasets\n",
        "\n",
        "xg_reg.save_model('0001_model_forest_fire.json')\n",
        "\n",
        "# Load the above file on any json viewer to get a glimpse of the tree"
      ],
      "metadata": {
        "id": "bgRhHZVkfIqq"
      },
      "execution_count": null,
      "outputs": []
    },
    {
      "cell_type": "markdown",
      "source": [
        "# Scope of Improvement\n",
        "\n",
        "*   Directly use remote sensing techniques instead of the metereological data such as implementing CNN on a satellite image to extract data and features and then train our model. Currently a lot of research is going on in this area and this has tremendous potential in the coming times. Ex: FireNet\n",
        "\n",
        "*   To save time I did not proceed with hyperparameter optimization but just proceeded with plugging random values. But on a macro scale I think it will have a much larger impact.\n",
        "\n",
        "*   Use Google Earth Engine to extract all the data hence buidling an end-to-end pipeline without even the need to input the data. Infact I even found a research paper by an Indonesian agency where they have developed a FWI calculator using GEE API for Indonesian Fire Danger Rating System.\n",
        "Link: https://iopscience.iop.org/article/10.1088/1755-1315/936/1/012040"
      ],
      "metadata": {
        "id": "3HkQ-Hu3yrQM"
      }
    }
  ]
}